{
 "cells": [
  {
   "cell_type": "code",
   "execution_count": 1,
   "id": "c320d3a6",
   "metadata": {},
   "outputs": [],
   "source": [
    "import torch\n",
    "import pandas as pd\n",
    "import numpy as np\n",
    "import matplotlib.pyplot as plt\n",
    "from KCNODE import get_KCNODE_FT_model"
   ]
  },
  {
   "cell_type": "markdown",
   "id": "fdf49a43",
   "metadata": {},
   "source": [
    "# Building the kinetic-constrained neural ODE model and import trained parameters"
   ]
  },
  {
   "cell_type": "code",
   "execution_count": 2,
   "id": "5d986bb5",
   "metadata": {},
   "outputs": [
    {
     "name": "stdout",
     "output_type": "stream",
     "text": [
      "Your vector field callable (nn.Module) should have both time `t` and state `x` as arguments, we've wrapped it for you.\n"
     ]
    },
    {
     "data": {
      "text/plain": [
       "<All keys matched successfully>"
      ]
     },
     "execution_count": 2,
     "metadata": {},
     "output_type": "execute_result"
    }
   ],
   "source": [
    "PATH = r'trained_models\\KCNODE_FT.pt'\n",
    "model = get_KCNODE_FT_model()\n",
    "model.load_state_dict(torch.load(PATH))"
   ]
  },
  {
   "cell_type": "markdown",
   "id": "0db003d5",
   "metadata": {},
   "source": [
    "# Generating inputs for KCNODE\n",
    "\n",
    "Unit for molar flow: $mmol/min$\n",
    "\n",
    "Unit for tau (catalyst volume): $dm^3$"
   ]
  },
  {
   "cell_type": "code",
   "execution_count": 3,
   "id": "ffae44d3",
   "metadata": {},
   "outputs": [],
   "source": [
    "amount_HC = 15\n",
    "amount_alcohols = 7\n",
    "compounds = ['N2', 'CO2', 'CO', 'H2', 'H2O', \n",
    "             *[f'C{i}an' for i in range(1, amount_HC + 1)], \n",
    "             *[f'C{i}en' for i in range(2, amount_HC + 1)],\n",
    "             *[f'C{i}OH' for i in range(1, amount_alcohols + 1)],\n",
    "            ]\n",
    "\n",
    "reaction_condition = ['P', 'temp', 'tos']\n",
    "inputs_name = reaction_condition + compounds\n",
    "inputs_dict = {i:[0] for i in inputs_name}\n",
    "\n",
    "# set condition, 15 bar, 250 °C, CO2:H2:N2 = 1:3:1, time-on-stream 200 h\n",
    "\n",
    "pressure = 15\n",
    "temperature = 250\n",
    "time_on_stream = 200\n",
    "\n",
    "inputs_dict['P'] = [pressure / 20]\n",
    "inputs_dict['tos'] = [time_on_stream / 250]\n",
    "inputs_dict['temp'] = [10000/8.31*(1/(temperature+273.15) - 1/(280+273.15))]\n",
    "\n",
    "inputs_dict['CO2'] = [1]\n",
    "inputs_dict['H2'] = [3]\n",
    "inputs_dict['N2'] = [1]\n",
    "\n",
    "inputs_df = pd.DataFrame(inputs_dict)\n",
    "\n",
    "inputs = torch.tensor(inputs_df.values, requires_grad=True).float()\n",
    "tau = torch.tensor(np.append([0], np.linspace(1e-6, 0.01, 100)), requires_grad=True).float()"
   ]
  },
  {
   "cell_type": "markdown",
   "id": "87f2e28d",
   "metadata": {},
   "source": [
    "# Plot results"
   ]
  },
  {
   "cell_type": "code",
   "execution_count": 4,
   "id": "ce4fa5a3",
   "metadata": {},
   "outputs": [
    {
     "data": {
      "image/png": "[encoded data removed]",
      "text/plain": [
       "<Figure size 504x504 with 1 Axes>"
      ]
     },
     "metadata": {
      "needs_background": "light"
     },
     "output_type": "display_data"
    }
   ],
   "source": [
    "res = model(inputs, tau)\n",
    "CO2 = res[:, 0, 4]\n",
    "CO = res[:, 0, 5]\n",
    "CH4 = res[:, 0, 8]\n",
    "\n",
    "\n",
    "plt.figure(figsize=(7, 7))\n",
    "\n",
    "plt.plot(tau.detach().numpy(), CO2.detach().numpy(), '-', lw=2, alpha=1, label='CO2')\n",
    "plt.plot(tau.detach().numpy(), CO.detach().numpy(), '-', lw=2, alpha=1, label='CO')\n",
    "plt.plot(tau.detach().numpy(), CH4.detach().numpy(), '-', lw=2, alpha=1, label='CH4')\n",
    "\n",
    "plt.xlabel('Catalyst volumn V, dm$^3$')\n",
    "plt.ylabel('Molar flow, mmol/min')\n",
    "\n",
    "plt.xlim(0, tau.detach().numpy().max())\n",
    "plt.ylim(0, 1)\n",
    "\n",
    "plt.legend()\n",
    "\n",
    "plt.show()"
   ]
  },
  {
   "cell_type": "code",
   "execution_count": null,
   "id": "2996d11e",
   "metadata": {},
   "outputs": [],
   "source": []
  }
 ],
 "metadata": {
  "hide_input": false,
  "kernelspec": {
   "display_name": "Python 3 (ipykernel)",
   "language": "python",
   "name": "python3"
  },
  "language_info": {
   "codemirror_mode": {
    "name": "ipython",
    "version": 3
   },
   "file_extension": ".py",
   "mimetype": "text/x-python",
   "name": "python",
   "nbconvert_exporter": "python",
   "pygments_lexer": "ipython3",
   "version": "3.9.12"
  },
  "toc": {
   "base_numbering": 1,
   "nav_menu": {},
   "number_sections": true,
   "sideBar": true,
   "skip_h1_title": false,
   "title_cell": "Table of Contents",
   "title_sidebar": "Contents",
   "toc_cell": false,
   "toc_position": {},
   "toc_section_display": true,
   "toc_window_display": false
  }
 },
 "nbformat": 4,
 "nbformat_minor": 5
}
